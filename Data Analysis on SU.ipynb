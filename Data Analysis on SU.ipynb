{
 "cells": [
  {
   "cell_type": "markdown",
   "id": "b3f98dc9-e031-4449-a033-adec25a94e42",
   "metadata": {},
   "source": [
    "#### **Removed all numbers in excel from csv**"
   ]
  },
  {
   "cell_type": "code",
   "execution_count": 1,
   "id": "6a249283-eff2-4c0e-a311-cd25d111e54f",
   "metadata": {},
   "outputs": [],
   "source": [
    "import pandas as pd\n",
    "\n",
    "df_master = pd.read_excel(\"C:/Users/sinha/Desktop/Inter SU/cleaned_data_SU_filtered.xlsx\")\n",
    "df_lms = pd.read_csv(\"C:/Users/sinha/Downloads/LMS.csv\")\n",
    "\n",
    "df_master['Mobile'] = df_master['Mobile'].astype(str).str.strip()\n",
    "df_lms['MOBILE'] = df_lms['MOBILE'].astype(str).str.strip()\n",
    "\n",
    "df_cleaned = df_master[~df_master['Mobile'].isin(df_lms['MOBILE'])]\n",
    "\n",
    "df_cleaned.to_excel(\"C:/Users/sinha/Downloads/Master_Cleaned_final.xlsx\", index=False)"
   ]
  },
  {
   "cell_type": "markdown",
   "id": "0eb75f82-d9fc-467b-ae71-5e530358ce5b",
   "metadata": {},
   "source": [
    "***Importing File***"
   ]
  },
  {
   "cell_type": "code",
   "execution_count": 1,
   "id": "f4a15ff3-78db-40c0-a8dd-fce8c5abebbb",
   "metadata": {},
   "outputs": [],
   "source": [
    "import pandas as pd"
   ]
  },
  {
   "cell_type": "code",
   "execution_count": 2,
   "id": "2d70f6e8-150e-4b00-81bd-b5c31425d483",
   "metadata": {},
   "outputs": [
    {
     "name": "stdout",
     "output_type": "stream",
     "text": [
      "(22204, 5) and (186012, 1)\n"
     ]
    }
   ],
   "source": [
    "df = pd.read_excel(\"C:/Users/sinha/Desktop/Inter SU/Sharda all data combined - Copy.xlsx\")\n",
    "df_csv = pd.read_csv(\"C:/Users/sinha/Downloads/LMS.csv\")\n",
    "print(f\"{df.shape} and {df_csv.shape}\")"
   ]
  },
  {
   "cell_type": "markdown",
   "id": "e4f1e131-34f7-4df0-8b3f-f671d344f75b",
   "metadata": {},
   "source": [
    "**Removing Same entries**"
   ]
  },
  {
   "cell_type": "code",
   "execution_count": 3,
   "id": "2d5bd1cc-62be-47c1-8fae-3ebf54978f60",
   "metadata": {},
   "outputs": [
    {
     "name": "stdout",
     "output_type": "stream",
     "text": [
      "22204\n"
     ]
    }
   ],
   "source": [
    "original_count = len(df)\n",
    "print(original_count)\n",
    "df = df.drop_duplicates()"
   ]
  },
  {
   "cell_type": "code",
   "execution_count": 4,
   "id": "013af0d1-50e5-4b25-bd21-f03a30d28e08",
   "metadata": {},
   "outputs": [
    {
     "name": "stdout",
     "output_type": "stream",
     "text": [
      "Current count: 22028, Duplicates removed: 176\n"
     ]
    }
   ],
   "source": [
    "removed_count = original_count - len(df)\n",
    "print(f\"Current count: {len(df)}, Duplicates removed: {removed_count}\")"
   ]
  },
  {
   "cell_type": "markdown",
   "id": "b7f52c3c-3b9b-44df-a444-a8a4ffcc1382",
   "metadata": {},
   "source": [
    "**Removing duplicates based same Mobile AND Email**"
   ]
  },
  {
   "cell_type": "code",
   "execution_count": 5,
   "id": "e1dc91a2-21eb-44c9-a2e5-ce07a9523f84",
   "metadata": {},
   "outputs": [
    {
     "name": "stdout",
     "output_type": "stream",
     "text": [
      "Duplicates removed: 340\n"
     ]
    }
   ],
   "source": [
    "df = df.drop_duplicates(subset=['Mobile', 'Email'])\n",
    "removed_count = original_count - len(df)\n",
    "print(f\"Duplicates removed: {removed_count}\")"
   ]
  },
  {
   "cell_type": "markdown",
   "id": "76c22254-d53e-480a-861a-e7fedd52c42f",
   "metadata": {},
   "source": [
    "**Converting wrong input in Name**"
   ]
  },
  {
   "cell_type": "code",
   "execution_count": 6,
   "id": "29abbf95-d2d9-45c5-9977-ba4de8f39497",
   "metadata": {},
   "outputs": [
    {
     "name": "stdout",
     "output_type": "stream",
     "text": [
      "44\n"
     ]
    }
   ],
   "source": [
    "original_names = df['Name'].copy()\n",
    "df['Name'] = df['Name'].str.replace(r'^[^a-zA-Z]+', '', regex=True)\n",
    "changed_rows = original_names != df['Name']\n",
    "changed_count = changed_rows.sum()\n",
    "df = df[~changed_rows]\n",
    "print(changed_count)"
   ]
  },
  {
   "cell_type": "markdown",
   "id": "71aaba88-ba84-4a6f-9bb9-19b6fc0ef2eb",
   "metadata": {},
   "source": [
    "**Removing empty space along with data with no Name**"
   ]
  },
  {
   "cell_type": "code",
   "execution_count": 7,
   "id": "1ff4749d-bc30-4a20-ad30-7db83d826425",
   "metadata": {},
   "outputs": [],
   "source": [
    "df = df[df['Name'].str.strip() != '']"
   ]
  },
  {
   "cell_type": "markdown",
   "id": "02b390d5-e101-4ffa-9071-60a0d07281f4",
   "metadata": {},
   "source": [
    "**Exporting Excel**"
   ]
  },
  {
   "cell_type": "code",
   "execution_count": 11,
   "id": "26502cb9-f48b-41b7-bb9b-456e187f1213",
   "metadata": {},
   "outputs": [],
   "source": [
    "df.to_excel(r\"C:\\Users\\sinha\\Documents\\cleaned_data_SU.xlsx\", index=False)"
   ]
  },
  {
   "cell_type": "code",
   "execution_count": 10,
   "id": "c8996934-0c44-4243-8a85-f3c5aebf50d2",
   "metadata": {},
   "outputs": [
    {
     "data": {
      "text/plain": [
       "384"
      ]
     },
     "execution_count": 10,
     "metadata": {},
     "output_type": "execute_result"
    }
   ],
   "source": [
    "modified_count = original_count - len(df)\n",
    "modified_count"
   ]
  },
  {
   "cell_type": "markdown",
   "id": "73839a93-7869-4296-965f-5647d9259680",
   "metadata": {},
   "source": [
    "**Removing from another file**"
   ]
  },
  {
   "cell_type": "code",
   "execution_count": 11,
   "id": "95016f4b-8557-422f-9ca6-993e986a1785",
   "metadata": {},
   "outputs": [
    {
     "data": {
      "text/html": [
       "<div>\n",
       "<style scoped>\n",
       "    .dataframe tbody tr th:only-of-type {\n",
       "        vertical-align: middle;\n",
       "    }\n",
       "\n",
       "    .dataframe tbody tr th {\n",
       "        vertical-align: top;\n",
       "    }\n",
       "\n",
       "    .dataframe thead th {\n",
       "        text-align: right;\n",
       "    }\n",
       "</style>\n",
       "<table border=\"1\" class=\"dataframe\">\n",
       "  <thead>\n",
       "    <tr style=\"text-align: right;\">\n",
       "      <th></th>\n",
       "      <th>MOBILE</th>\n",
       "    </tr>\n",
       "  </thead>\n",
       "  <tbody>\n",
       "    <tr>\n",
       "      <th>0</th>\n",
       "      <td>9198977371</td>\n",
       "    </tr>\n",
       "    <tr>\n",
       "      <th>1</th>\n",
       "      <td>9701539404</td>\n",
       "    </tr>\n",
       "    <tr>\n",
       "      <th>2</th>\n",
       "      <td>9491221734</td>\n",
       "    </tr>\n",
       "    <tr>\n",
       "      <th>3</th>\n",
       "      <td>9068831104</td>\n",
       "    </tr>\n",
       "    <tr>\n",
       "      <th>4</th>\n",
       "      <td>9669470626</td>\n",
       "    </tr>\n",
       "  </tbody>\n",
       "</table>\n",
       "</div>"
      ],
      "text/plain": [
       "       MOBILE\n",
       "0  9198977371\n",
       "1  9701539404\n",
       "2  9491221734\n",
       "3  9068831104\n",
       "4  9669470626"
      ]
     },
     "execution_count": 11,
     "metadata": {},
     "output_type": "execute_result"
    }
   ],
   "source": [
    "df_csv.head()"
   ]
  },
  {
   "cell_type": "code",
   "execution_count": 12,
   "id": "42294f0d-515f-457d-9aeb-3fc366268bee",
   "metadata": {},
   "outputs": [
    {
     "data": {
      "text/html": [
       "<div>\n",
       "<style scoped>\n",
       "    .dataframe tbody tr th:only-of-type {\n",
       "        vertical-align: middle;\n",
       "    }\n",
       "\n",
       "    .dataframe tbody tr th {\n",
       "        vertical-align: top;\n",
       "    }\n",
       "\n",
       "    .dataframe thead th {\n",
       "        text-align: right;\n",
       "    }\n",
       "</style>\n",
       "<table border=\"1\" class=\"dataframe\">\n",
       "  <thead>\n",
       "    <tr style=\"text-align: right;\">\n",
       "      <th></th>\n",
       "      <th>Name</th>\n",
       "      <th>Email</th>\n",
       "      <th>Mobile</th>\n",
       "      <th>User city</th>\n",
       "      <th>Exhibition city</th>\n",
       "    </tr>\n",
       "  </thead>\n",
       "  <tbody>\n",
       "    <tr>\n",
       "      <th>0</th>\n",
       "      <td>Kapil</td>\n",
       "      <td>kapilsharma8517@gmail.com</td>\n",
       "      <td>8278629468</td>\n",
       "      <td>Dholpur</td>\n",
       "      <td>Jaipur</td>\n",
       "    </tr>\n",
       "    <tr>\n",
       "      <th>1</th>\n",
       "      <td>Mahendra Singh</td>\n",
       "      <td>mahendra.ranavat@walsonshealthcare.com</td>\n",
       "      <td>9871143664</td>\n",
       "      <td>Delhi</td>\n",
       "      <td>Jaipur</td>\n",
       "    </tr>\n",
       "    <tr>\n",
       "      <th>2</th>\n",
       "      <td>Bhumika acharya</td>\n",
       "      <td>avinashacharya2111@gmail.com</td>\n",
       "      <td>7849869718</td>\n",
       "      <td>Jaisalmer</td>\n",
       "      <td>Jaipur</td>\n",
       "    </tr>\n",
       "    <tr>\n",
       "      <th>3</th>\n",
       "      <td>Ritik Pal</td>\n",
       "      <td>palritik437@gmail.com</td>\n",
       "      <td>8273743578</td>\n",
       "      <td>Muzaffarnagar</td>\n",
       "      <td>Jaipur</td>\n",
       "    </tr>\n",
       "    <tr>\n",
       "      <th>4</th>\n",
       "      <td>Bhartendu Faujdar</td>\n",
       "      <td>pilani1970@gmail.com</td>\n",
       "      <td>9530478847</td>\n",
       "      <td>Pilani</td>\n",
       "      <td>Jaipur</td>\n",
       "    </tr>\n",
       "    <tr>\n",
       "      <th>...</th>\n",
       "      <td>...</td>\n",
       "      <td>...</td>\n",
       "      <td>...</td>\n",
       "      <td>...</td>\n",
       "      <td>...</td>\n",
       "    </tr>\n",
       "    <tr>\n",
       "      <th>22194</th>\n",
       "      <td>Monika Koshwa</td>\n",
       "      <td>monikakoshwa@gmail.com</td>\n",
       "      <td>6398624591</td>\n",
       "      <td>East Delhi</td>\n",
       "      <td>Delhi</td>\n",
       "    </tr>\n",
       "    <tr>\n",
       "      <th>22195</th>\n",
       "      <td>Suraj Baghel</td>\n",
       "      <td>sb9578661@gmail.com</td>\n",
       "      <td>9238359291</td>\n",
       "      <td>Noida</td>\n",
       "      <td>Delhi</td>\n",
       "    </tr>\n",
       "    <tr>\n",
       "      <th>22196</th>\n",
       "      <td>Mehal</td>\n",
       "      <td>mdmelal577@gmail.com</td>\n",
       "      <td>7757826028</td>\n",
       "      <td>South Delhi</td>\n",
       "      <td>Delhi</td>\n",
       "    </tr>\n",
       "    <tr>\n",
       "      <th>22197</th>\n",
       "      <td>Anojyadav</td>\n",
       "      <td>yadavsumase@gmail.com</td>\n",
       "      <td>9183750443</td>\n",
       "      <td>Ghaziabad</td>\n",
       "      <td>Delhi</td>\n",
       "    </tr>\n",
       "    <tr>\n",
       "      <th>22198</th>\n",
       "      <td>Ateeq Ahmed</td>\n",
       "      <td>ateeqahmed6344@gmail.com</td>\n",
       "      <td>9811974177</td>\n",
       "      <td>South Delhi</td>\n",
       "      <td>Delhi</td>\n",
       "    </tr>\n",
       "  </tbody>\n",
       "</table>\n",
       "<p>21820 rows × 5 columns</p>\n",
       "</div>"
      ],
      "text/plain": [
       "                    Name                                   Email      Mobile  \\\n",
       "0                  Kapil               kapilsharma8517@gmail.com  8278629468   \n",
       "1         Mahendra Singh  mahendra.ranavat@walsonshealthcare.com  9871143664   \n",
       "2        Bhumika acharya            avinashacharya2111@gmail.com  7849869718   \n",
       "3              Ritik Pal                   palritik437@gmail.com  8273743578   \n",
       "4      Bhartendu Faujdar                    pilani1970@gmail.com  9530478847   \n",
       "...                  ...                                     ...         ...   \n",
       "22194      Monika Koshwa                  monikakoshwa@gmail.com  6398624591   \n",
       "22195       Suraj Baghel                     sb9578661@gmail.com  9238359291   \n",
       "22196              Mehal                    mdmelal577@gmail.com  7757826028   \n",
       "22197          Anojyadav                   yadavsumase@gmail.com  9183750443   \n",
       "22198        Ateeq Ahmed                ateeqahmed6344@gmail.com  9811974177   \n",
       "\n",
       "           User city Exhibition city  \n",
       "0            Dholpur          Jaipur  \n",
       "1              Delhi          Jaipur  \n",
       "2          Jaisalmer          Jaipur  \n",
       "3      Muzaffarnagar          Jaipur  \n",
       "4             Pilani          Jaipur  \n",
       "...              ...             ...  \n",
       "22194     East Delhi           Delhi  \n",
       "22195          Noida           Delhi  \n",
       "22196    South Delhi           Delhi  \n",
       "22197      Ghaziabad           Delhi  \n",
       "22198    South Delhi           Delhi  \n",
       "\n",
       "[21820 rows x 5 columns]"
      ]
     },
     "execution_count": 12,
     "metadata": {},
     "output_type": "execute_result"
    }
   ],
   "source": [
    "df_filtered = df[~df['Mobile'].isin(df_csv['MOBILE'])]\n",
    "df_filtered"
   ]
  },
  {
   "cell_type": "code",
   "execution_count": 13,
   "id": "15d02323-1842-441b-8308-c844391fc937",
   "metadata": {},
   "outputs": [
    {
     "data": {
      "text/plain": [
       "384"
      ]
     },
     "execution_count": 13,
     "metadata": {},
     "output_type": "execute_result"
    }
   ],
   "source": [
    "original_count - len(df_filtered)"
   ]
  },
  {
   "cell_type": "markdown",
   "id": "c6a02143-9f9e-41c4-a75d-c7e56061cd46",
   "metadata": {},
   "source": [
    "**Final export**"
   ]
  },
  {
   "cell_type": "code",
   "execution_count": 14,
   "id": "589f695e-d7a3-47e0-adcd-0962f585a385",
   "metadata": {},
   "outputs": [],
   "source": [
    "df_filtered.to_excel(r\"C:\\Users\\sinha\\Documents\\cleaned_data_SU_filtered.xlsx\", index=False)"
   ]
  },
  {
   "cell_type": "markdown",
   "id": "1f1d6add-0bd7-4470-bc9a-b470e66bbd52",
   "metadata": {},
   "source": [
    "## Sending Emails"
   ]
  },
  {
   "cell_type": "code",
   "execution_count": 3,
   "id": "fbf84af1-404f-4cd6-b5ad-46379f2d4ab2",
   "metadata": {},
   "outputs": [
    {
     "data": {
      "text/plain": [
       "(221,\n",
       " b'2.0.0 closing connection 98e67ed59e1d1-30f365e5c0dsm8379632a91.36 - gsmtp')"
      ]
     },
     "execution_count": 3,
     "metadata": {},
     "output_type": "execute_result"
    }
   ],
   "source": [
    "import pandas as pd\n",
    "import smtplib\n",
    "from email.message import EmailMessage\n",
    "\n",
    "# Load contacts from Excel\n",
    "df = pd.read_excel('C:/Users/sinha/Desktop/Inter SU/email_testing.xlsx')\n",
    "\n",
    "# Email login info\n",
    "your_email = \"admissions@sharda.ac.in\"\n",
    "your_password = \"lqrxnfwauttgvsbq\"\n",
    "\n",
    "# Create SMTP session\n",
    "server = smtplib.SMTP('smtp.gmail.com', 587)\n",
    "server.starttls()\n",
    "server.login(your_email, your_password)\n",
    "\n",
    "# Loop through contacts and send email\n",
    "for index, row in df.iterrows():\n",
    "    name = row['Name']\n",
    "    to_email = row['Email']\n",
    "    \n",
    "    msg = EmailMessage()\n",
    "    msg['Subject'] = \"Limited CUET - PG Scholarships at Sharda University, Apply Now!\"\n",
    "    msg['From'] = your_email\n",
    "    msg['To'] = to_email\n",
    "\n",
    "    html_content = f\"\"\"\n",
    "    <html>\n",
    "        <body>\n",
    "            <p>Dear {name},</p>\n",
    "            <p>\n",
    "                Sharda University is offering up to <strong>100% Scholarship</strong> based on your PG - CUET score.\n",
    "            </p>\n",
    "            <p>\n",
    "                <strong>Please Note:</strong> Scholarships are limited to the first 300 applicants and offered on a first come, first served basis.\n",
    "            </p>\n",
    "            <p>\n",
    "                Time is running out. <strong>Act Fast</strong> to apply now and complete your application today.\n",
    "            </p>\n",
    "            <p>\n",
    "                For any assistance, feel free to call us at <a href=\"tel:01204570000\">0120-4570000</a>\n",
    "            </p>\n",
    "            <p>\n",
    "                <a href=\"https://admissions.sharda.ac.in/\" target=\"_blank\">Click here to complete your application</a>\n",
    "            </p>\n",
    "            <br>\n",
    "            <p>\n",
    "                Warm regards,<br>\n",
    "                Admissions Office<br>\n",
    "                Sharda University<br>\n",
    "                <a href=\"https://www.sharda.ac.in\">www.sharda.ac.in</a><br>\n",
    "                📧 <a href=\"mailto:admission@sharda.ac.in\">admission@sharda.ac.in</a><br>\n",
    "                📞 0120-4570000\n",
    "            </p>\n",
    "        </body>\n",
    "    </html>\n",
    "    \"\"\"\n",
    "\n",
    "    msg.add_alternative(html_content, subtype='html')\n",
    "\n",
    "    server.send_message(msg)\n",
    "\n",
    "# Close connection\n",
    "server.quit()"
   ]
  },
  {
   "cell_type": "code",
   "execution_count": 4,
   "id": "48f58822-dbd7-4690-8e91-69584b4ab3a0",
   "metadata": {},
   "outputs": [
    {
     "data": {
      "text/plain": [
       "(221,\n",
       " b'2.0.0 closing connection d9443c01a7336-2341c34f25dsm5777415ad.162 - gsmtp')"
      ]
     },
     "execution_count": 4,
     "metadata": {},
     "output_type": "execute_result"
    }
   ],
   "source": [
    "import pandas as pd\n",
    "import smtplib\n",
    "from email.message import EmailMessage\n",
    "import requests\n",
    "\n",
    "# Load contacts\n",
    "df = pd.read_excel('C:/Users/sinha/Desktop/Inter SU/email_testing.xlsx')\n",
    "\n",
    "# Email login\n",
    "your_email = \"admissions@sharda.ac.in\"\n",
    "your_password = \"lqrxnfwauttgvsbq\"\n",
    "\n",
    "# Get HTML from web server\n",
    "html_url = \"https://admissions.sharda.ac.in/emailer/2024/mission-shakti/pay-now2/index.html\"\n",
    "html_response = requests.get(html_url)\n",
    "html_content = html_response.text\n",
    "\n",
    "# Start SMTP\n",
    "server = smtplib.SMTP('smtp.gmail.com', 587)\n",
    "server.starttls()\n",
    "server.login(your_email, your_password)\n",
    "\n",
    "# Loop through contacts\n",
    "for _, row in df.iterrows():\n",
    "    name = row['Name']\n",
    "    to_email = row['Email']\n",
    "\n",
    "    # Personalize HTML (optional)\n",
    "    personalized_html = html_content.replace(\"{{name}}\", name)\n",
    "\n",
    "    # Create message\n",
    "    msg = EmailMessage()\n",
    "    msg['Subject'] = \"Limited CUET PG Scholarships – Apply Now!\"\n",
    "    msg['From'] = your_email\n",
    "    msg['To'] = to_email\n",
    "    msg.add_alternative(personalized_html, subtype='html')\n",
    "\n",
    "    server.send_message(msg)\n",
    "\n",
    "server.quit()"
   ]
  },
  {
   "cell_type": "markdown",
   "id": "c4f88a59-fb36-4e56-8767-2256e0a7a0f1",
   "metadata": {},
   "source": [
    "### Scheduled dates (after 2 days for 2 times)"
   ]
  },
  {
   "cell_type": "code",
   "execution_count": 9,
   "id": "631da3da-208f-4ccb-b8ef-472db7eeb5c6",
   "metadata": {},
   "outputs": [
    {
     "name": "stdout",
     "output_type": "stream",
     "text": [
      "Already sent Intro to ashok.kumar5@sharda.ac.in today, skipping.\n",
      "Already sent Intro to ajeet.kumar5@sharda.ac.in today, skipping.\n",
      "Already sent Intro to ajeetkumar084@gmail.com today, skipping.\n",
      "Already sent Intro to 2022534811.aman@ug.sharda.ac.in today, skipping.\n"
     ]
    },
    {
     "data": {
      "text/plain": [
       "(221,\n",
       " b'2.0.0 closing connection 98e67ed59e1d1-30f364907dfsm8575604a91.23 - gsmtp')"
      ]
     },
     "execution_count": 9,
     "metadata": {},
     "output_type": "execute_result"
    }
   ],
   "source": [
    "import pandas as pd\n",
    "import smtplib\n",
    "from email.message import EmailMessage\n",
    "import requests\n",
    "from datetime import datetime, timedelta\n",
    "import os\n",
    "import json\n",
    "\n",
    "# File paths\n",
    "excel_file = 'C:/Users/sinha/Desktop/Inter SU/email_testing.xlsx'\n",
    "log_file = 'C:/Users/sinha/Desktop/Inter SU/sent_log.csv'\n",
    "\n",
    "# Email credentials\n",
    "your_email = \"admissions@sharda.ac.in\"\n",
    "your_password = \"lqrxnfwauttgvsbq\"  # Use an app password\n",
    "\n",
    "# Email schedule: day offset from initial send\n",
    "schedule = {\n",
    "    \"Intro\": 0,\n",
    "    \"Reminder\": 1,\n",
    "    \"FinalCall\": 2,\n",
    "}\n",
    "\n",
    "# Templates hosted online\n",
    "email_templates = {\n",
    "    \"Intro\": \"https://admissions.sharda.ac.in/emailer/2024/mission-shakti/pay-now2/index.html\",\n",
    "    \"Reminder\": \"https://admissions.sharda.ac.in/emailer/2024/mission-shakti/pay-now2/index.html\",\n",
    "    \"FinalCall\": \"https://admissions.sharda.ac.in/emailer/2024/mission-shakti/pay-now2/index.html\"\n",
    "}\n",
    "\n",
    "# STEP 1: Load Excel\n",
    "df = pd.read_excel(excel_file)\n",
    "\n",
    "# STEP 2: Load or Create Send Log\n",
    "if os.path.exists(log_file):\n",
    "    sent_log = pd.read_csv(log_file)\n",
    "    sent_log['FirstSentDate'] = pd.to_datetime(sent_log['FirstSentDate'])\n",
    "    if 'SentEmails' not in sent_log.columns:\n",
    "        sent_log['SentEmails'] = ''\n",
    "else:\n",
    "    sent_log = pd.DataFrame(columns=['Email', 'FirstSentDate', 'SentEmails'])\n",
    "\n",
    "# STEP 3: Setup Email Server\n",
    "server = smtplib.SMTP('smtp.gmail.com', 587)\n",
    "server.starttls()\n",
    "server.login(your_email, your_password)\n",
    "\n",
    "# STEP 4: Today's Date\n",
    "today = pd.Timestamp(datetime.now().date())\n",
    "\n",
    "# STEP 5: Loop through contacts\n",
    "for _, row in df.iterrows():\n",
    "    name = row['Name']\n",
    "    to_email = row['Email']\n",
    "\n",
    "    if to_email in sent_log['Email'].values:\n",
    "        idx = sent_log.index[sent_log['Email'] == to_email][0]\n",
    "        start_date = pd.Timestamp(sent_log.at[idx, 'FirstSentDate'])\n",
    "        sent_emails = sent_log.at[idx, 'SentEmails']\n",
    "        if pd.isna(sent_emails) or sent_emails == '':\n",
    "            sent_emails_dict = {}\n",
    "        else:\n",
    "            sent_emails_dict = json.loads(sent_emails)\n",
    "    else:\n",
    "        start_date = today\n",
    "        sent_emails_dict = {}\n",
    "        sent_log = pd.concat(\n",
    "            [sent_log, pd.DataFrame([{'Email': to_email, 'FirstSentDate': start_date, 'SentEmails': ''}])],\n",
    "            ignore_index=True\n",
    "        )\n",
    "        idx = sent_log.index[sent_log['Email'] == to_email][0]\n",
    "\n",
    "    for email_type, offset in schedule.items():\n",
    "        send_date = start_date + timedelta(days=offset)\n",
    "        if send_date == today:\n",
    "            if sent_emails_dict.get(email_type) == str(today.date()):\n",
    "                print(f\"Already sent {email_type} to {to_email} today, skipping.\")\n",
    "                continue\n",
    "            try:\n",
    "                html_url = email_templates[email_type]\n",
    "                html_content = requests.get(html_url).text\n",
    "                html_personalized = html_content.replace(\"{{name}}\", name)\n",
    "\n",
    "                msg = EmailMessage()\n",
    "                msg['Subject'] = f\"{email_type} – CUET PG Scholarships\"\n",
    "                msg['From'] = your_email\n",
    "                msg['To'] = to_email\n",
    "                msg.add_alternative(html_personalized, subtype='html')\n",
    "\n",
    "                server.send_message(msg)\n",
    "                print(f\"Sent {email_type} to {to_email}\")\n",
    "\n",
    "                sent_emails_dict[email_type] = str(today.date())\n",
    "                sent_log.at[idx, 'SentEmails'] = json.dumps(sent_emails_dict)\n",
    "\n",
    "            except Exception as e:\n",
    "                print(f\"❌ Failed to send {email_type} to {to_email}: {e}\")\n",
    "\n",
    "# STEP 6: Save Log\n",
    "sent_log.to_csv(log_file, index=False)\n",
    "\n",
    "# STEP 7: Close Server\n",
    "server.quit()"
   ]
  },
  {
   "cell_type": "code",
   "execution_count": null,
   "id": "9f8135bc-b1b9-4e66-b6e6-6b0074ccfdfa",
   "metadata": {},
   "outputs": [],
   "source": []
  }
 ],
 "metadata": {
  "kernelspec": {
   "display_name": "Python [conda env:base] *",
   "language": "python",
   "name": "conda-base-py"
  },
  "language_info": {
   "codemirror_mode": {
    "name": "ipython",
    "version": 3
   },
   "file_extension": ".py",
   "mimetype": "text/x-python",
   "name": "python",
   "nbconvert_exporter": "python",
   "pygments_lexer": "ipython3",
   "version": "3.12.7"
  }
 },
 "nbformat": 4,
 "nbformat_minor": 5
}
