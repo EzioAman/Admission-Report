{
 "cells": [
  {
   "cell_type": "markdown",
   "id": "c3b69ede-207f-42f2-944d-e44b6062d242",
   "metadata": {},
   "source": [
    "### Menu Driven code"
   ]
  },
  {
   "cell_type": "code",
   "execution_count": 2,
   "id": "aacf63a0-a86f-47e2-987b-48cfb70ef7b5",
   "metadata": {
    "scrolled": true
   },
   "outputs": [
    {
     "name": "stdout",
     "output_type": "stream",
     "text": [
      "\n",
      "⚙️ SETUP COLUMNS ⚙️\n"
     ]
    },
    {
     "name": "stdin",
     "output_type": "stream",
     "text": [
      "Enter the Mobile column name (default 'Mobile'):  Mobile\n",
      "Enter the Email column name (default 'Email'):  Email\n",
      "Enter the Name column name (default 'Name'):  Name\n",
      "Enter the reference mobile column name (default 'MOBILE'):  MOBILE\n"
     ]
    },
    {
     "name": "stdout",
     "output_type": "stream",
     "text": [
      "\n",
      "🔹 FILES LOADED 🔹\n",
      "Main file → 20680 rows\n",
      "Reference file → 186013 rows\n",
      "\n",
      "\n",
      "======================\n",
      "📋 MAIN MENU 📋\n",
      "======================\n",
      "1️⃣  Remove duplicates (Mobile + Email)\n",
      "2️⃣  Clean incorrect names\n",
      "3️⃣  Remove blank names\n",
      "4️⃣  Remove common mobiles\n",
      "5️⃣  Validate mobile numbers (10-digit only)\n",
      "6️⃣  Export cleaned file\n",
      "7️⃣  Run ALL steps\n",
      "8️⃣  Remove duplicates on custom columns\n",
      "0️⃣  Exit\n",
      "======================\n"
     ]
    },
    {
     "name": "stdin",
     "output_type": "stream",
     "text": [
      "Enter your choice (0-8):  7\n"
     ]
    },
    {
     "name": "stdout",
     "output_type": "stream",
     "text": [
      "\n",
      "🔹 STEP: Remove Duplicates 🔹\n",
      "Duplicates removed (based on Mobile, Email): 1\n",
      "Sample duplicates removed:\n",
      "     Mobile               Email\n",
      "2  21345215  awdawdsh@gmail.com \n",
      "\n",
      "\n",
      "🔹 STEP: Clean Incorrect Names 🔹\n",
      "Rows with cleaned names: 29\n",
      "Sample name changes:\n",
      "    Original Cleaned\n",
      "0    123aMan    aMan\n",
      "41       NaN     NaN\n",
      "47       NaN     NaN\n",
      "62       NaN     NaN\n",
      "977      NaN     NaN \n",
      "\n",
      "Rows removed due to incorrect names: 29\n",
      "\n",
      "\n",
      "🔹 STEP: Remove Blank Names 🔹\n",
      "Blank name rows removed: 0\n",
      "\n",
      "🔹 STEP: Remove Common Mobiles (against reference) 🔹\n",
      "Common mobiles removed: 0\n",
      "\n",
      "🔹 STEP: Validate Mobile Numbers (10-digit only) 🔹\n",
      "Invalid mobile number rows removed: 21\n",
      "Sample invalid mobiles removed:\n",
      "                       Mobile\n",
      "1                    21345215\n",
      "7837                912340004\n",
      "10955  9718864664, 9625791534\n",
      "10967  9711375383/ 9818067255\n",
      "10989   9815230220/9915376006 \n",
      "\n",
      "\n",
      "✅ Cleaned data saved to: C:/Users/sinha/Desktop/Inter SU/Data Cleaning/output_final.xlsx\n",
      "\n",
      "\n",
      "======================\n",
      "📋 MAIN MENU 📋\n",
      "======================\n",
      "1️⃣  Remove duplicates (Mobile + Email)\n",
      "2️⃣  Clean incorrect names\n",
      "3️⃣  Remove blank names\n",
      "4️⃣  Remove common mobiles\n",
      "5️⃣  Validate mobile numbers (10-digit only)\n",
      "6️⃣  Export cleaned file\n",
      "7️⃣  Run ALL steps\n",
      "8️⃣  Remove duplicates on custom columns\n",
      "0️⃣  Exit\n",
      "======================\n"
     ]
    },
    {
     "name": "stdin",
     "output_type": "stream",
     "text": [
      "Enter your choice (0-8):  Mobile\n"
     ]
    },
    {
     "name": "stdout",
     "output_type": "stream",
     "text": [
      "\n",
      "⚠️ Invalid choice. Please enter a number from the menu.\n",
      "\n",
      "\n",
      "======================\n",
      "📋 MAIN MENU 📋\n",
      "======================\n",
      "1️⃣  Remove duplicates (Mobile + Email)\n",
      "2️⃣  Clean incorrect names\n",
      "3️⃣  Remove blank names\n",
      "4️⃣  Remove common mobiles\n",
      "5️⃣  Validate mobile numbers (10-digit only)\n",
      "6️⃣  Export cleaned file\n",
      "7️⃣  Run ALL steps\n",
      "8️⃣  Remove duplicates on custom columns\n",
      "0️⃣  Exit\n",
      "======================\n"
     ]
    },
    {
     "name": "stdin",
     "output_type": "stream",
     "text": [
      "Enter your choice (0-8):  8\n"
     ]
    },
    {
     "name": "stdout",
     "output_type": "stream",
     "text": [
      "\n",
      "🔹 STEP: Remove Custom Duplicates 🔹\n"
     ]
    },
    {
     "name": "stdin",
     "output_type": "stream",
     "text": [
      "Enter the column names to check duplicates (comma-separated):  Mobile\n"
     ]
    },
    {
     "name": "stdout",
     "output_type": "stream",
     "text": [
      "Custom duplicates removed (based on ['Mobile']): 75\n",
      "Sample duplicates removed:\n",
      "          Mobile\n",
      "1680  9958203331\n",
      "1973  9599076501\n",
      "3535  8700728210\n",
      "3974  9599076501\n",
      "5578  9958203331 \n",
      "\n",
      "\n",
      "======================\n",
      "📋 MAIN MENU 📋\n",
      "======================\n",
      "1️⃣  Remove duplicates (Mobile + Email)\n",
      "2️⃣  Clean incorrect names\n",
      "3️⃣  Remove blank names\n",
      "4️⃣  Remove common mobiles\n",
      "5️⃣  Validate mobile numbers (10-digit only)\n",
      "6️⃣  Export cleaned file\n",
      "7️⃣  Run ALL steps\n",
      "8️⃣  Remove duplicates on custom columns\n",
      "0️⃣  Exit\n",
      "======================\n"
     ]
    },
    {
     "name": "stdin",
     "output_type": "stream",
     "text": [
      "Enter your choice (0-8):  0\n"
     ]
    },
    {
     "name": "stdout",
     "output_type": "stream",
     "text": [
      "\n",
      "👋 Exiting program. Goodbye! 👋\n",
      "\n"
     ]
    }
   ],
   "source": [
    "import pandas as pd\n",
    "\n",
    "def load_files():\n",
    "    input_file = \"\"\n",
    "    reference_file = \"\"\n",
    "    main_df = pd.read_excel(input_file)\n",
    "    reference_df = pd.read_csv(reference_file)\n",
    "    print(\"\\n🔹 FILES LOADED 🔹\")\n",
    "    print(f\"Main file → {len(main_df)} rows\")\n",
    "    print(f\"Reference file → {len(reference_df)} rows\\n\")\n",
    "    return main_df, reference_df\n",
    "\n",
    "def export_file(df):\n",
    "    output_file = \"\"\n",
    "    df.to_excel(output_file, index=False)\n",
    "    print(f\"\\n✅ Cleaned data saved to: {output_file}\\n\")\n",
    "\n",
    "def remove_duplicates(df, mobile_column, email_column):\n",
    "    print(\"\\n🔹 STEP: Remove Duplicates 🔹\")\n",
    "    duplicate_rows = df[df.duplicated(subset=[mobile_column, email_column], keep='first')]\n",
    "    before = len(df)\n",
    "    df_no_dup = df.drop_duplicates(subset=[mobile_column, email_column], keep='first')\n",
    "    removed = before - len(df_no_dup)\n",
    "    print(f\"Duplicates removed (based on {mobile_column}, {email_column}): {removed}\")\n",
    "    if removed > 0:\n",
    "        print(\"Sample duplicates removed:\")\n",
    "        print(duplicate_rows[[mobile_column, email_column]].head(), \"\\n\")\n",
    "    return df_no_dup\n",
    "\n",
    "def clean_names(df, name_column):\n",
    "    print(\"\\n🔹 STEP: Clean Incorrect Names 🔹\")\n",
    "    original_names = df[name_column].copy()\n",
    "    df[name_column] = df[name_column].str.replace(r'^[^a-zA-Z]+', '', regex=True)\n",
    "    changed_rows = original_names != df[name_column]\n",
    "    changed_count = changed_rows.sum()\n",
    "    if changed_count > 0:\n",
    "        print(f\"Rows with cleaned names: {changed_count}\")\n",
    "        name_changes = pd.DataFrame({\n",
    "            'Original': original_names[changed_rows],\n",
    "            'Cleaned': df[name_column][changed_rows]\n",
    "        })\n",
    "        print(\"Sample name changes:\")\n",
    "        print(name_changes.head(), \"\\n\")\n",
    "    cleaned_df = df[~changed_rows]\n",
    "    print(f\"Rows removed due to incorrect names: {changed_count}\\n\")\n",
    "    return cleaned_df\n",
    "\n",
    "def remove_blank_names(df, name_column):\n",
    "    print(\"\\n🔹 STEP: Remove Blank Names 🔹\")\n",
    "    before = len(df)\n",
    "    df_no_blank = df[df[name_column].str.strip() != '']\n",
    "    removed = before - len(df_no_blank)\n",
    "    print(f\"Blank name rows removed: {removed}\")\n",
    "    if removed > 0:\n",
    "        print(\"Sample blank names removed:\")\n",
    "        print(df[df[name_column].str.strip() == ''].head(), \"\\n\")\n",
    "    return df_no_blank\n",
    "\n",
    "def remove_common_mobiles(df, reference_df, mobile_column, ref_mobile_column):\n",
    "    print(\"\\n🔹 STEP: Remove Common Mobiles (against reference) 🔹\")\n",
    "    before = len(df)\n",
    "    filtered_df = df[~df[mobile_column].isin(reference_df[ref_mobile_column])]\n",
    "    removed = before - len(filtered_df)\n",
    "    print(f\"Common mobiles removed: {removed}\")\n",
    "    if removed > 0:\n",
    "        print(\"Sample common mobiles removed:\")\n",
    "        print(df[df[mobile_column].isin(reference_df[ref_mobile_column])][[mobile_column]].head(), \"\\n\")\n",
    "    return filtered_df\n",
    "\n",
    "def validate_mobile_numbers(df, mobile_column):\n",
    "    print(\"\\n🔹 STEP: Validate Mobile Numbers (10-digit only) 🔹\")\n",
    "    before = len(df)\n",
    "    valid_mobile_pattern = r'^\\d{10}$'\n",
    "    invalid_mobiles = df[~df[mobile_column].astype(str).str.match(valid_mobile_pattern)]\n",
    "    valid_df = df[df[mobile_column].astype(str).str.match(valid_mobile_pattern)]\n",
    "    removed = before - len(valid_df)\n",
    "    print(f\"Invalid mobile number rows removed: {removed}\")\n",
    "    if removed > 0:\n",
    "        print(\"Sample invalid mobiles removed:\")\n",
    "        print(invalid_mobiles[[mobile_column]].head(), \"\\n\")\n",
    "    return valid_df\n",
    "\n",
    "def remove_custom_duplicates(df):\n",
    "    print(\"\\n🔹 STEP: Remove Custom Duplicates 🔹\")\n",
    "    cols_input = input(\"Enter the column names to check duplicates (comma-separated): \")\n",
    "    columns = [col.strip() for col in cols_input.split(',')]\n",
    "    duplicate_rows = df[df.duplicated(subset=columns, keep='first')]\n",
    "    before = len(df)\n",
    "    df_no_dup = df.drop_duplicates(subset=columns, keep='first')\n",
    "    removed = before - len(df_no_dup)\n",
    "    print(f\"Custom duplicates removed (based on {columns}): {removed}\")\n",
    "    if removed > 0:\n",
    "        print(\"Sample duplicates removed:\")\n",
    "        print(duplicate_rows[columns].head(), \"\\n\")\n",
    "    return df_no_dup\n",
    "\n",
    "def main_menu():\n",
    "    print(\"\\n⚙️ SETUP COLUMNS ⚙️\")\n",
    "    mobile_column = input(\"Enter the Mobile column name (default 'Mobile'): \") or 'Mobile'\n",
    "    email_column = input(\"Enter the Email column name (default 'Email'): \") or 'Email'\n",
    "    name_column = input(\"Enter the Name column name (default 'Name'): \") or 'Name'\n",
    "    ref_mobile_column = input(\"Enter the reference mobile column name (default 'MOBILE'): \") or 'MOBILE'\n",
    "    \n",
    "    main_df, reference_df = load_files()\n",
    "    \n",
    "    while True:\n",
    "        print(\"\\n======================\")\n",
    "        print(\"📋 MAIN MENU 📋\")\n",
    "        print(\"======================\")\n",
    "        print(\"1️⃣  Remove duplicates (Mobile + Email)\")\n",
    "        print(\"2️⃣  Clean incorrect names\")\n",
    "        print(\"3️⃣  Remove blank names\")\n",
    "        print(\"4️⃣  Remove common mobiles\")\n",
    "        print(\"5️⃣  Validate mobile numbers (10-digit only)\")\n",
    "        print(\"6️⃣  Export cleaned file\")\n",
    "        print(\"7️⃣  Run ALL steps\")\n",
    "        print(\"8️⃣  Remove duplicates on custom columns\")\n",
    "        print(\"0️⃣  Exit\")\n",
    "        print(\"======================\")\n",
    "        \n",
    "        choice = input(\"Enter your choice (0-8): \")\n",
    "        \n",
    "        if choice == '1':\n",
    "            main_df = remove_duplicates(main_df, mobile_column, email_column)\n",
    "        elif choice == '2':\n",
    "            main_df = clean_names(main_df, name_column)\n",
    "        elif choice == '3':\n",
    "            main_df = remove_blank_names(main_df, name_column)\n",
    "        elif choice == '4':\n",
    "            main_df = remove_common_mobiles(main_df, reference_df, mobile_column, ref_mobile_column)\n",
    "        elif choice == '5':\n",
    "            main_df = validate_mobile_numbers(main_df, mobile_column)\n",
    "        elif choice == '6':\n",
    "            export_file(main_df)\n",
    "        elif choice == '7':\n",
    "            main_df = remove_duplicates(main_df, mobile_column, email_column)\n",
    "            main_df = clean_names(main_df, name_column)\n",
    "            main_df = remove_blank_names(main_df, name_column)\n",
    "            main_df = remove_common_mobiles(main_df, reference_df, mobile_column, ref_mobile_column)\n",
    "            main_df = validate_mobile_numbers(main_df, mobile_column)\n",
    "            export_file(main_df)\n",
    "        elif choice == '8':\n",
    "            main_df = remove_custom_duplicates(main_df)\n",
    "        elif choice == '0':\n",
    "            print(\"\\n👋 Exiting program. Goodbye! 👋\\n\")\n",
    "            break\n",
    "        else:\n",
    "            print(\"\\n⚠️ Invalid choice. Please enter a number from the menu.\\n\")\n",
    "\n",
    "# Run the menu\n",
    "main_menu()"
   ]
  },
  {
   "cell_type": "markdown",
   "id": "3643f595-aabd-4e98-be3e-b019e8efc92f",
   "metadata": {},
   "source": [
    "### Enter location of files"
   ]
  },
  {
   "cell_type": "code",
   "execution_count": 1,
   "id": "f51e6623-0c59-43f7-a90c-ba33e1c0ece1",
   "metadata": {},
   "outputs": [],
   "source": [
    "# Path to the input file (the file you want to clean)\n",
    "input_file_path = r\"\"\n",
    "\n",
    "# Path to the reference file (for filtering common entries)\n",
    "reference_file_path = r\"\"\n",
    "\n",
    "# Path where cleaned file will be saved\n",
    "output_file_path = r\"\""
   ]
  },
  {
   "cell_type": "markdown",
   "id": "a07d5a3c-d7c2-444c-bc9c-b98c6f2376ba",
   "metadata": {},
   "source": [
    "### Remove Duplicates (keeps first occurance)"
   ]
  },
  {
   "cell_type": "code",
   "execution_count": 2,
   "id": "1cf45292-e68f-4521-bcbd-44655cd2373b",
   "metadata": {},
   "outputs": [
    {
     "ename": "NameError",
     "evalue": "name 'main_df' is not defined",
     "output_type": "error",
     "traceback": [
      "\u001b[1;31m---------------------------------------------------------------------------\u001b[0m",
      "\u001b[1;31mNameError\u001b[0m                                 Traceback (most recent call last)",
      "Cell \u001b[1;32mIn[2], line 1\u001b[0m\n\u001b[1;32m----> 1\u001b[0m original_row_count \u001b[38;5;241m=\u001b[39m \u001b[38;5;28mlen\u001b[39m(main_df)\n\u001b[0;32m      3\u001b[0m \u001b[38;5;66;03m# Remove duplicates based on 'Mobile' and 'Email' columns\u001b[39;00m\n\u001b[0;32m      4\u001b[0m main_df_no_duplicates \u001b[38;5;241m=\u001b[39m main_df\u001b[38;5;241m.\u001b[39mdrop_duplicates(subset\u001b[38;5;241m=\u001b[39m[\u001b[38;5;124m'\u001b[39m\u001b[38;5;124mMobile\u001b[39m\u001b[38;5;124m'\u001b[39m, \u001b[38;5;124m'\u001b[39m\u001b[38;5;124mEmail\u001b[39m\u001b[38;5;124m'\u001b[39m], keep\u001b[38;5;241m=\u001b[39m\u001b[38;5;124m'\u001b[39m\u001b[38;5;124mfirst\u001b[39m\u001b[38;5;124m'\u001b[39m)\n",
      "\u001b[1;31mNameError\u001b[0m: name 'main_df' is not defined"
     ]
    }
   ],
   "source": [
    "import pandas as pd\n",
    "main_df = pd.read_excel(input_file_path)\n",
    "reference_df = pd.read_csv(reference_file_path)\n",
    "\n",
    "original_row_count = len(main_df)\n",
    "\n",
    "# Remove duplicates based on 'Mobile' and 'Email' columns\n",
    "main_df_no_duplicates = main_df.drop_duplicates(subset=['Mobile', 'Email'], keep='first')\n",
    "\n",
    "# Find out how many rows were removed\n",
    "duplicates_removed_count = original_row_count - len(main_df_no_duplicates)\n",
    "\n",
    "print(f\"Duplicates removed: {duplicates_removed_count}\")\n",
    "\n",
    "# (Optional) See which rows were removed\n",
    "removed_rows = main_df[main_df.duplicated(subset=['Mobile', 'Email'], keep='first')]\n",
    "removed_rows.head()  # Display first few removed rows\n",
    "\n",
    "# Save the cleaned dataframe to Excel\n",
    "filtered_df.to_excel(output_file_path, index=False)\n",
    "\n",
    "print(f\"Cleaned data saved to: {output_file_path}\")"
   ]
  },
  {
   "cell_type": "markdown",
   "id": "c3d6904f-3965-477d-a474-d8a0da9e0abc",
   "metadata": {},
   "source": [
    "### Remove Rows with Incorrect Names (Non-Alphabetic Start)"
   ]
  },
  {
   "cell_type": "code",
   "execution_count": null,
   "id": "eec7d262-456d-49f8-9a18-09acfc3f799e",
   "metadata": {},
   "outputs": [],
   "source": [
    "# Make a copy of the original 'Name' column\n",
    "original_names = main_df_no_duplicates['Name'].copy()\n",
    "\n",
    "# Clean 'Name' column by removing any non-letter characters at the start\n",
    "main_df_no_duplicates['Name'] = main_df_no_duplicates['Name'].str.replace(r'^[^a-zA-Z]+', '', regex=True)\n",
    "\n",
    "# Identify which rows changed\n",
    "name_changed_rows = original_names != main_df_no_duplicates['Name']\n",
    "name_changes_count = name_changed_rows.sum()\n",
    "\n",
    "# Remove rows where name was changed (if that’s the rule)\n",
    "cleaned_df = main_df_no_duplicates[~name_changed_rows]\n",
    "\n",
    "print(f\"Rows removed due to incorrect names: {name_changes_count}\")\n",
    "\n",
    "# Save the cleaned dataframe to Excel\n",
    "filtered_df.to_excel(output_file_path, index=False)\n",
    "\n",
    "print(f\"Cleaned data saved to: {output_file_path}\")"
   ]
  },
  {
   "cell_type": "markdown",
   "id": "d126b73c-b346-4f5d-95a4-f81a91ba0c0b",
   "metadata": {},
   "source": [
    "### Remove Blank or Space-Only Names"
   ]
  },
  {
   "cell_type": "code",
   "execution_count": null,
   "id": "5b17104b-ba72-4c41-8bb1-7a1cb6e0cada",
   "metadata": {},
   "outputs": [],
   "source": [
    "# Remove rows where 'Name' is just blank or spaces\n",
    "final_df = cleaned_df[cleaned_df['Name'].str.strip() != '']\n",
    "\n",
    "print(f\"Remaining rows after removing blanks: {len(final_df)}\")"
   ]
  },
  {
   "cell_type": "markdown",
   "id": "195883c5-453d-420b-88ec-b5d70ab39deb",
   "metadata": {},
   "source": [
    "### Remove Common Entries Based on 'Mobile'"
   ]
  },
  {
   "cell_type": "code",
   "execution_count": null,
   "id": "df1e9f63-6982-4c4d-b1f9-de664f7a5d53",
   "metadata": {},
   "outputs": [],
   "source": [
    "# Filter out rows from final_df where 'Mobile' exists in reference_df['MOBILE']\n",
    "filtered_df = final_df[~final_df['Mobile'].isin(reference_df['MOBILE'])]\n",
    "\n",
    "print(f\"Rows after removing common mobiles: {len(filtered_df)}\")"
   ]
  },
  {
   "cell_type": "markdown",
   "id": "3575ae7f-8600-4d3f-bef9-1927decd790a",
   "metadata": {},
   "source": [
    "### Exporting"
   ]
  },
  {
   "cell_type": "code",
   "execution_count": null,
   "id": "94426ef9-962d-47f2-abdf-207d66d146da",
   "metadata": {},
   "outputs": [],
   "source": [
    "# Save the cleaned dataframe to Excel\n",
    "filtered_df.to_excel(output_file_path, index=False)\n",
    "\n",
    "print(f\"Cleaned data saved to: {output_file_path}\")"
   ]
  }
 ],
 "metadata": {
  "kernelspec": {
   "display_name": "Python [conda env:base] *",
   "language": "python",
   "name": "conda-base-py"
  },
  "language_info": {
   "codemirror_mode": {
    "name": "ipython",
    "version": 3
   },
   "file_extension": ".py",
   "mimetype": "text/x-python",
   "name": "python",
   "nbconvert_exporter": "python",
   "pygments_lexer": "ipython3",
   "version": "3.12.7"
  }
 },
 "nbformat": 4,
 "nbformat_minor": 5
}
